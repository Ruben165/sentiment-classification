{
  "cells": [
    {
      "cell_type": "markdown",
      "metadata": {
        "id": "Zr2ODTe3IdJ6"
      },
      "source": [
        "Text (Tweet) Sentiment Classification using GRU <br> By: Lie Reubensto"
      ]
    },
    {
      "cell_type": "code",
      "execution_count": 1,
      "metadata": {
        "colab": {
          "base_uri": "https://localhost:8080/"
        },
        "id": "ru_gbbQfgqvF",
        "outputId": "2cac6d84-a3d8-44b2-f714-8aae91b10992"
      },
      "outputs": [],
      "source": [
        "# Import Libraries\n",
        "import re\n",
        "import numpy as np\n",
        "import pandas as pd\n",
        "import matplotlib.pyplot as plt\n",
        "import tensorflow as tf\n",
        "from tensorflow.keras.preprocessing.text import Tokenizer\n",
        "from tensorflow.keras.preprocessing.sequence import pad_sequences\n",
        "from tensorflow.keras import layers, models\n",
        "from tensorflow.keras.utils import to_categorical\n",
        "from tensorflow.keras.callbacks import ReduceLROnPlateau\n",
        "from sklearn.model_selection import train_test_split as tts\n",
        "from sklearn.preprocessing import LabelEncoder, label_binarize\n",
        "from sklearn.metrics import f1_score, roc_curve, auc"
      ]
    },
    {
      "cell_type": "code",
      "execution_count": 2,
      "metadata": {
        "id": "33DmzVVwLaq5"
      },
      "outputs": [
        {
          "name": "stdout",
          "output_type": "stream",
          "text": [
            "(27481, 10)\n",
            "(4815, 9)\n"
          ]
        }
      ],
      "source": [
        "# Load Dataset\n",
        "train_path = \"./train.csv\"\n",
        "test_path = \"./test.csv\"\n",
        "\n",
        "train = pd.read_csv(train_path, header=0, encoding=\"ISO-8859-1\")\n",
        "test = pd.read_csv(test_path, header=0, encoding=\"ISO-8859-1\")\n",
        "\n",
        "print(train.shape)\n",
        "print(test.shape)"
      ]
    },
    {
      "cell_type": "code",
      "execution_count": 3,
      "metadata": {
        "colab": {
          "base_uri": "https://localhost:8080/",
          "height": 275
        },
        "id": "I_W9KsrW4bgz",
        "outputId": "7300f4a0-b7e4-4333-93d9-a22d7d3e5d62"
      },
      "outputs": [
        {
          "data": {
            "text/html": [
              "<div>\n",
              "<style scoped>\n",
              "    .dataframe tbody tr th:only-of-type {\n",
              "        vertical-align: middle;\n",
              "    }\n",
              "\n",
              "    .dataframe tbody tr th {\n",
              "        vertical-align: top;\n",
              "    }\n",
              "\n",
              "    .dataframe thead th {\n",
              "        text-align: right;\n",
              "    }\n",
              "</style>\n",
              "<table border=\"1\" class=\"dataframe\">\n",
              "  <thead>\n",
              "    <tr style=\"text-align: right;\">\n",
              "      <th></th>\n",
              "      <th>textID</th>\n",
              "      <th>text</th>\n",
              "      <th>selected_text</th>\n",
              "      <th>sentiment</th>\n",
              "      <th>Time of Tweet</th>\n",
              "      <th>Age of User</th>\n",
              "      <th>Country</th>\n",
              "      <th>Population -2020</th>\n",
              "      <th>Land Area (Km²)</th>\n",
              "      <th>Density (P/Km²)</th>\n",
              "    </tr>\n",
              "  </thead>\n",
              "  <tbody>\n",
              "    <tr>\n",
              "      <th>0</th>\n",
              "      <td>cb774db0d1</td>\n",
              "      <td>I`d have responded, if I were going</td>\n",
              "      <td>I`d have responded, if I were going</td>\n",
              "      <td>neutral</td>\n",
              "      <td>morning</td>\n",
              "      <td>0-20</td>\n",
              "      <td>Afghanistan</td>\n",
              "      <td>38928346</td>\n",
              "      <td>652860.0</td>\n",
              "      <td>60</td>\n",
              "    </tr>\n",
              "    <tr>\n",
              "      <th>1</th>\n",
              "      <td>549e992a42</td>\n",
              "      <td>Sooo SAD I will miss you here in San Diego!!!</td>\n",
              "      <td>Sooo SAD</td>\n",
              "      <td>negative</td>\n",
              "      <td>noon</td>\n",
              "      <td>21-30</td>\n",
              "      <td>Albania</td>\n",
              "      <td>2877797</td>\n",
              "      <td>27400.0</td>\n",
              "      <td>105</td>\n",
              "    </tr>\n",
              "    <tr>\n",
              "      <th>2</th>\n",
              "      <td>088c60f138</td>\n",
              "      <td>my boss is bullying me...</td>\n",
              "      <td>bullying me</td>\n",
              "      <td>negative</td>\n",
              "      <td>night</td>\n",
              "      <td>31-45</td>\n",
              "      <td>Algeria</td>\n",
              "      <td>43851044</td>\n",
              "      <td>2381740.0</td>\n",
              "      <td>18</td>\n",
              "    </tr>\n",
              "    <tr>\n",
              "      <th>3</th>\n",
              "      <td>9642c003ef</td>\n",
              "      <td>what interview! leave me alone</td>\n",
              "      <td>leave me alone</td>\n",
              "      <td>negative</td>\n",
              "      <td>morning</td>\n",
              "      <td>46-60</td>\n",
              "      <td>Andorra</td>\n",
              "      <td>77265</td>\n",
              "      <td>470.0</td>\n",
              "      <td>164</td>\n",
              "    </tr>\n",
              "    <tr>\n",
              "      <th>4</th>\n",
              "      <td>358bd9e861</td>\n",
              "      <td>Sons of ****, why couldn`t they put them on t...</td>\n",
              "      <td>Sons of ****,</td>\n",
              "      <td>negative</td>\n",
              "      <td>noon</td>\n",
              "      <td>60-70</td>\n",
              "      <td>Angola</td>\n",
              "      <td>32866272</td>\n",
              "      <td>1246700.0</td>\n",
              "      <td>26</td>\n",
              "    </tr>\n",
              "  </tbody>\n",
              "</table>\n",
              "</div>"
            ],
            "text/plain": [
              "       textID                                               text  \\\n",
              "0  cb774db0d1                I`d have responded, if I were going   \n",
              "1  549e992a42      Sooo SAD I will miss you here in San Diego!!!   \n",
              "2  088c60f138                          my boss is bullying me...   \n",
              "3  9642c003ef                     what interview! leave me alone   \n",
              "4  358bd9e861   Sons of ****, why couldn`t they put them on t...   \n",
              "\n",
              "                         selected_text sentiment Time of Tweet Age of User  \\\n",
              "0  I`d have responded, if I were going   neutral       morning        0-20   \n",
              "1                             Sooo SAD  negative          noon       21-30   \n",
              "2                          bullying me  negative         night       31-45   \n",
              "3                       leave me alone  negative       morning       46-60   \n",
              "4                        Sons of ****,  negative          noon       60-70   \n",
              "\n",
              "       Country  Population -2020  Land Area (Km²)  Density (P/Km²)  \n",
              "0  Afghanistan          38928346         652860.0               60  \n",
              "1      Albania           2877797          27400.0              105  \n",
              "2      Algeria          43851044        2381740.0               18  \n",
              "3      Andorra             77265            470.0              164  \n",
              "4       Angola          32866272        1246700.0               26  "
            ]
          },
          "execution_count": 3,
          "metadata": {},
          "output_type": "execute_result"
        }
      ],
      "source": [
        "# Check Training Data (first five rows)\n",
        "train.head()"
      ]
    },
    {
      "cell_type": "code",
      "execution_count": 4,
      "metadata": {
        "colab": {
          "base_uri": "https://localhost:8080/"
        },
        "id": "72S_AqFeyH1j",
        "outputId": "0e34184b-7f2d-46ab-9e8c-90e38c375bf6"
      },
      "outputs": [
        {
          "name": "stdout",
          "output_type": "stream",
          "text": [
            "<class 'pandas.core.frame.DataFrame'>\n",
            "RangeIndex: 27481 entries, 0 to 27480\n",
            "Data columns (total 10 columns):\n",
            " #   Column            Non-Null Count  Dtype  \n",
            "---  ------            --------------  -----  \n",
            " 0   textID            27481 non-null  object \n",
            " 1   text              27480 non-null  object \n",
            " 2   selected_text     27480 non-null  object \n",
            " 3   sentiment         27481 non-null  object \n",
            " 4   Time of Tweet     27481 non-null  object \n",
            " 5   Age of User       27481 non-null  object \n",
            " 6   Country           27481 non-null  object \n",
            " 7   Population -2020  27481 non-null  int64  \n",
            " 8   Land Area (Km²)   27481 non-null  float64\n",
            " 9   Density (P/Km²)   27481 non-null  int64  \n",
            "dtypes: float64(1), int64(2), object(7)\n",
            "memory usage: 2.1+ MB\n"
          ]
        }
      ],
      "source": [
        "\n",
        "# Check Training Data Info\n",
        "train.info()"
      ]
    },
    {
      "cell_type": "code",
      "execution_count": 5,
      "metadata": {
        "colab": {
          "base_uri": "https://localhost:8080/",
          "height": 206
        },
        "id": "YOv3imfe4dCL",
        "outputId": "0eda2963-4e06-46ff-d304-4537589cd687"
      },
      "outputs": [
        {
          "data": {
            "text/html": [
              "<div>\n",
              "<style scoped>\n",
              "    .dataframe tbody tr th:only-of-type {\n",
              "        vertical-align: middle;\n",
              "    }\n",
              "\n",
              "    .dataframe tbody tr th {\n",
              "        vertical-align: top;\n",
              "    }\n",
              "\n",
              "    .dataframe thead th {\n",
              "        text-align: right;\n",
              "    }\n",
              "</style>\n",
              "<table border=\"1\" class=\"dataframe\">\n",
              "  <thead>\n",
              "    <tr style=\"text-align: right;\">\n",
              "      <th></th>\n",
              "      <th>textID</th>\n",
              "      <th>text</th>\n",
              "      <th>sentiment</th>\n",
              "      <th>Time of Tweet</th>\n",
              "      <th>Age of User</th>\n",
              "      <th>Country</th>\n",
              "      <th>Population -2020</th>\n",
              "      <th>Land Area (Km²)</th>\n",
              "      <th>Density (P/Km²)</th>\n",
              "    </tr>\n",
              "  </thead>\n",
              "  <tbody>\n",
              "    <tr>\n",
              "      <th>0</th>\n",
              "      <td>f87dea47db</td>\n",
              "      <td>Last session of the day  http://twitpic.com/67ezh</td>\n",
              "      <td>neutral</td>\n",
              "      <td>morning</td>\n",
              "      <td>0-20</td>\n",
              "      <td>Afghanistan</td>\n",
              "      <td>38928346.0</td>\n",
              "      <td>652860.0</td>\n",
              "      <td>60.0</td>\n",
              "    </tr>\n",
              "    <tr>\n",
              "      <th>1</th>\n",
              "      <td>96d74cb729</td>\n",
              "      <td>Shanghai is also really exciting (precisely -...</td>\n",
              "      <td>positive</td>\n",
              "      <td>noon</td>\n",
              "      <td>21-30</td>\n",
              "      <td>Albania</td>\n",
              "      <td>2877797.0</td>\n",
              "      <td>27400.0</td>\n",
              "      <td>105.0</td>\n",
              "    </tr>\n",
              "    <tr>\n",
              "      <th>2</th>\n",
              "      <td>eee518ae67</td>\n",
              "      <td>Recession hit Veronique Branquinho, she has to...</td>\n",
              "      <td>negative</td>\n",
              "      <td>night</td>\n",
              "      <td>31-45</td>\n",
              "      <td>Algeria</td>\n",
              "      <td>43851044.0</td>\n",
              "      <td>2381740.0</td>\n",
              "      <td>18.0</td>\n",
              "    </tr>\n",
              "    <tr>\n",
              "      <th>3</th>\n",
              "      <td>01082688c6</td>\n",
              "      <td>happy bday!</td>\n",
              "      <td>positive</td>\n",
              "      <td>morning</td>\n",
              "      <td>46-60</td>\n",
              "      <td>Andorra</td>\n",
              "      <td>77265.0</td>\n",
              "      <td>470.0</td>\n",
              "      <td>164.0</td>\n",
              "    </tr>\n",
              "    <tr>\n",
              "      <th>4</th>\n",
              "      <td>33987a8ee5</td>\n",
              "      <td>http://twitpic.com/4w75p - I like it!!</td>\n",
              "      <td>positive</td>\n",
              "      <td>noon</td>\n",
              "      <td>60-70</td>\n",
              "      <td>Angola</td>\n",
              "      <td>32866272.0</td>\n",
              "      <td>1246700.0</td>\n",
              "      <td>26.0</td>\n",
              "    </tr>\n",
              "  </tbody>\n",
              "</table>\n",
              "</div>"
            ],
            "text/plain": [
              "       textID                                               text sentiment  \\\n",
              "0  f87dea47db  Last session of the day  http://twitpic.com/67ezh   neutral   \n",
              "1  96d74cb729   Shanghai is also really exciting (precisely -...  positive   \n",
              "2  eee518ae67  Recession hit Veronique Branquinho, she has to...  negative   \n",
              "3  01082688c6                                        happy bday!  positive   \n",
              "4  33987a8ee5             http://twitpic.com/4w75p - I like it!!  positive   \n",
              "\n",
              "  Time of Tweet Age of User      Country  Population -2020  Land Area (Km²)  \\\n",
              "0       morning        0-20  Afghanistan        38928346.0         652860.0   \n",
              "1          noon       21-30      Albania         2877797.0          27400.0   \n",
              "2         night       31-45      Algeria        43851044.0        2381740.0   \n",
              "3       morning       46-60      Andorra           77265.0            470.0   \n",
              "4          noon       60-70       Angola        32866272.0        1246700.0   \n",
              "\n",
              "   Density (P/Km²)  \n",
              "0             60.0  \n",
              "1            105.0  \n",
              "2             18.0  \n",
              "3            164.0  \n",
              "4             26.0  "
            ]
          },
          "execution_count": 5,
          "metadata": {},
          "output_type": "execute_result"
        }
      ],
      "source": [
        "# Check Testing Data (first five rows)\n",
        "test.head()"
      ]
    },
    {
      "cell_type": "code",
      "execution_count": 6,
      "metadata": {
        "colab": {
          "base_uri": "https://localhost:8080/"
        },
        "id": "FloPWBKnyMmW",
        "outputId": "0df53e02-e801-41bc-a98d-ba1a2c5fb8d3"
      },
      "outputs": [
        {
          "name": "stdout",
          "output_type": "stream",
          "text": [
            "<class 'pandas.core.frame.DataFrame'>\n",
            "RangeIndex: 4815 entries, 0 to 4814\n",
            "Data columns (total 9 columns):\n",
            " #   Column            Non-Null Count  Dtype  \n",
            "---  ------            --------------  -----  \n",
            " 0   textID            3534 non-null   object \n",
            " 1   text              3534 non-null   object \n",
            " 2   sentiment         3534 non-null   object \n",
            " 3   Time of Tweet     3534 non-null   object \n",
            " 4   Age of User       3534 non-null   object \n",
            " 5   Country           3534 non-null   object \n",
            " 6   Population -2020  3534 non-null   float64\n",
            " 7   Land Area (Km²)   3534 non-null   float64\n",
            " 8   Density (P/Km²)   3534 non-null   float64\n",
            "dtypes: float64(3), object(6)\n",
            "memory usage: 338.7+ KB\n"
          ]
        }
      ],
      "source": [
        "# Check Testing Data Info\n",
        "test.info()"
      ]
    },
    {
      "cell_type": "code",
      "execution_count": 7,
      "metadata": {
        "id": "j7MOdyWk3nRc"
      },
      "outputs": [],
      "source": [
        "# Only take the relevant columns\n",
        "train = train[['text', 'sentiment']]\n",
        "test = test[['text', 'sentiment']]"
      ]
    },
    {
      "cell_type": "code",
      "execution_count": 8,
      "metadata": {
        "colab": {
          "base_uri": "https://localhost:8080/"
        },
        "id": "UJYsCvQ93LOe",
        "outputId": "8ccb8ec0-2580-447d-e2fd-f7ae65439b14"
      },
      "outputs": [
        {
          "name": "stdout",
          "output_type": "stream",
          "text": [
            "Count of unique elements on Train Dataset:\n",
            "text         27480\n",
            "sentiment        3\n",
            "dtype: int64\n",
            "\n",
            "Count of unique elements on Test Dataset:\n",
            "text         3534\n",
            "sentiment       3\n",
            "dtype: int64\n"
          ]
        }
      ],
      "source": [
        "print(f'Count of unique elements on Train Dataset:\\n{train.nunique()}\\n')\n",
        "print(f'Count of unique elements on Test Dataset:\\n{test.nunique()}')"
      ]
    },
    {
      "cell_type": "markdown",
      "metadata": {
        "id": "mPnCf41aJVYC"
      },
      "source": [
        "There's three types of sentiment here, which is Positive, Neutral, and Negative"
      ]
    },
    {
      "cell_type": "code",
      "execution_count": 9,
      "metadata": {
        "colab": {
          "base_uri": "https://localhost:8080/"
        },
        "id": "6gPwmjYMyPnA",
        "outputId": "0a5b6b5b-5fd9-4ec6-ee36-7277515e9c10"
      },
      "outputs": [
        {
          "data": {
            "text/plain": [
              "text         1\n",
              "sentiment    0\n",
              "dtype: int64"
            ]
          },
          "execution_count": 9,
          "metadata": {},
          "output_type": "execute_result"
        }
      ],
      "source": [
        "# Check missing value from training data\n",
        "train.isnull().sum()"
      ]
    },
    {
      "cell_type": "code",
      "execution_count": 10,
      "metadata": {
        "id": "LyCzBdtozMwK"
      },
      "outputs": [],
      "source": [
        "# Drop row with missing value from training data\n",
        "train = train.dropna()"
      ]
    },
    {
      "cell_type": "code",
      "execution_count": 11,
      "metadata": {
        "colab": {
          "base_uri": "https://localhost:8080/"
        },
        "id": "BQOgIHNezVSi",
        "outputId": "74010025-8355-4d9a-97bd-8613099a1057"
      },
      "outputs": [
        {
          "data": {
            "text/plain": [
              "text         0\n",
              "sentiment    0\n",
              "dtype: int64"
            ]
          },
          "execution_count": 11,
          "metadata": {},
          "output_type": "execute_result"
        }
      ],
      "source": [
        "# Check missing value again\n",
        "train.isnull().sum()"
      ]
    },
    {
      "cell_type": "code",
      "execution_count": 12,
      "metadata": {
        "colab": {
          "base_uri": "https://localhost:8080/"
        },
        "id": "Nu6f-2-XyTl5",
        "outputId": "5bfe7559-bbbb-4a01-98bd-d9972e52d13f"
      },
      "outputs": [
        {
          "data": {
            "text/plain": [
              "text         1281\n",
              "sentiment    1281\n",
              "dtype: int64"
            ]
          },
          "execution_count": 12,
          "metadata": {},
          "output_type": "execute_result"
        }
      ],
      "source": [
        "# Check missing value from testing data\n",
        "test.isnull().sum()"
      ]
    },
    {
      "cell_type": "code",
      "execution_count": 13,
      "metadata": {
        "id": "BXNP7C443Tk0"
      },
      "outputs": [],
      "source": [
        "# Drop row with missing value from testing data\n",
        "test = test.dropna()"
      ]
    },
    {
      "cell_type": "code",
      "execution_count": 14,
      "metadata": {
        "colab": {
          "base_uri": "https://localhost:8080/"
        },
        "id": "ieFapMqR3YrF",
        "outputId": "293e06da-7b1d-4166-94c1-3ac21979566e"
      },
      "outputs": [
        {
          "data": {
            "text/plain": [
              "text         0\n",
              "sentiment    0\n",
              "dtype: int64"
            ]
          },
          "execution_count": 14,
          "metadata": {},
          "output_type": "execute_result"
        }
      ],
      "source": [
        "# Check missing value again\n",
        "test.isnull().sum()"
      ]
    },
    {
      "cell_type": "markdown",
      "metadata": {
        "id": "DvPuFN1UJd-8"
      },
      "source": [
        "Drop rows with missing value (because there's still many data remains)"
      ]
    },
    {
      "cell_type": "code",
      "execution_count": 15,
      "metadata": {
        "colab": {
          "base_uri": "https://localhost:8080/"
        },
        "id": "LiYTwgsSyg9I",
        "outputId": "e4fa4393-f0de-457b-dcdb-456c265c69f4"
      },
      "outputs": [
        {
          "name": "stdout",
          "output_type": "stream",
          "text": [
            "Duplicate on Train Dataset:  0\n",
            "Duplicate on Test Dataset:  0\n"
          ]
        }
      ],
      "source": [
        "print('Duplicate on Train Dataset: ',train.duplicated().sum())\n",
        "print('Duplicate on Test Dataset: ',test.duplicated().sum())"
      ]
    },
    {
      "cell_type": "markdown",
      "metadata": {
        "id": "ByQhRLQZJl65"
      },
      "source": [
        "No more duplicates"
      ]
    },
    {
      "cell_type": "code",
      "execution_count": 16,
      "metadata": {
        "colab": {
          "base_uri": "https://localhost:8080/",
          "height": 363
        },
        "id": "K7UrrixEOXg0",
        "outputId": "549c0127-abb3-491a-eebe-7b707c8fb816"
      },
      "outputs": [
        {
          "data": {
            "text/html": [
              "<div>\n",
              "<style scoped>\n",
              "    .dataframe tbody tr th:only-of-type {\n",
              "        vertical-align: middle;\n",
              "    }\n",
              "\n",
              "    .dataframe tbody tr th {\n",
              "        vertical-align: top;\n",
              "    }\n",
              "\n",
              "    .dataframe thead th {\n",
              "        text-align: right;\n",
              "    }\n",
              "</style>\n",
              "<table border=\"1\" class=\"dataframe\">\n",
              "  <thead>\n",
              "    <tr style=\"text-align: right;\">\n",
              "      <th></th>\n",
              "      <th>text</th>\n",
              "      <th>sentiment</th>\n",
              "    </tr>\n",
              "  </thead>\n",
              "  <tbody>\n",
              "    <tr>\n",
              "      <th>0</th>\n",
              "      <td>I`d have responded, if I were going</td>\n",
              "      <td>neutral</td>\n",
              "    </tr>\n",
              "    <tr>\n",
              "      <th>1</th>\n",
              "      <td>Sooo SAD I will miss you here in San Diego!!!</td>\n",
              "      <td>negative</td>\n",
              "    </tr>\n",
              "    <tr>\n",
              "      <th>2</th>\n",
              "      <td>my boss is bullying me...</td>\n",
              "      <td>negative</td>\n",
              "    </tr>\n",
              "    <tr>\n",
              "      <th>3</th>\n",
              "      <td>what interview! leave me alone</td>\n",
              "      <td>negative</td>\n",
              "    </tr>\n",
              "    <tr>\n",
              "      <th>4</th>\n",
              "      <td>Sons of ****, why couldn`t they put them on t...</td>\n",
              "      <td>negative</td>\n",
              "    </tr>\n",
              "  </tbody>\n",
              "</table>\n",
              "</div>"
            ],
            "text/plain": [
              "                                                text sentiment\n",
              "0                I`d have responded, if I were going   neutral\n",
              "1      Sooo SAD I will miss you here in San Diego!!!  negative\n",
              "2                          my boss is bullying me...  negative\n",
              "3                     what interview! leave me alone  negative\n",
              "4   Sons of ****, why couldn`t they put them on t...  negative"
            ]
          },
          "execution_count": 16,
          "metadata": {},
          "output_type": "execute_result"
        }
      ],
      "source": [
        "train.head()"
      ]
    },
    {
      "cell_type": "code",
      "execution_count": 17,
      "metadata": {
        "colab": {
          "base_uri": "https://localhost:8080/",
          "height": 363
        },
        "id": "oizNNF-kWzVX",
        "outputId": "99bd5702-da70-4306-cb09-f793d0995edf"
      },
      "outputs": [
        {
          "data": {
            "text/html": [
              "<div>\n",
              "<style scoped>\n",
              "    .dataframe tbody tr th:only-of-type {\n",
              "        vertical-align: middle;\n",
              "    }\n",
              "\n",
              "    .dataframe tbody tr th {\n",
              "        vertical-align: top;\n",
              "    }\n",
              "\n",
              "    .dataframe thead th {\n",
              "        text-align: right;\n",
              "    }\n",
              "</style>\n",
              "<table border=\"1\" class=\"dataframe\">\n",
              "  <thead>\n",
              "    <tr style=\"text-align: right;\">\n",
              "      <th></th>\n",
              "      <th>text</th>\n",
              "      <th>sentiment</th>\n",
              "    </tr>\n",
              "  </thead>\n",
              "  <tbody>\n",
              "    <tr>\n",
              "      <th>0</th>\n",
              "      <td>Last session of the day  http://twitpic.com/67ezh</td>\n",
              "      <td>neutral</td>\n",
              "    </tr>\n",
              "    <tr>\n",
              "      <th>1</th>\n",
              "      <td>Shanghai is also really exciting (precisely -...</td>\n",
              "      <td>positive</td>\n",
              "    </tr>\n",
              "    <tr>\n",
              "      <th>2</th>\n",
              "      <td>Recession hit Veronique Branquinho, she has to...</td>\n",
              "      <td>negative</td>\n",
              "    </tr>\n",
              "    <tr>\n",
              "      <th>3</th>\n",
              "      <td>happy bday!</td>\n",
              "      <td>positive</td>\n",
              "    </tr>\n",
              "    <tr>\n",
              "      <th>4</th>\n",
              "      <td>http://twitpic.com/4w75p - I like it!!</td>\n",
              "      <td>positive</td>\n",
              "    </tr>\n",
              "  </tbody>\n",
              "</table>\n",
              "</div>"
            ],
            "text/plain": [
              "                                                text sentiment\n",
              "0  Last session of the day  http://twitpic.com/67ezh   neutral\n",
              "1   Shanghai is also really exciting (precisely -...  positive\n",
              "2  Recession hit Veronique Branquinho, she has to...  negative\n",
              "3                                        happy bday!  positive\n",
              "4             http://twitpic.com/4w75p - I like it!!  positive"
            ]
          },
          "execution_count": 17,
          "metadata": {},
          "output_type": "execute_result"
        }
      ],
      "source": [
        "test.head()"
      ]
    },
    {
      "cell_type": "code",
      "execution_count": 18,
      "metadata": {
        "colab": {
          "base_uri": "https://localhost:8080/"
        },
        "id": "gVBtjfDmK5va",
        "outputId": "1755ddb1-7f78-4e29-b8df-33fc1a0ab4b1"
      },
      "outputs": [
        {
          "name": "stdout",
          "output_type": "stream",
          "text": [
            "Train Positive Sentiments:\n",
            "text         8582\n",
            "sentiment    8582\n",
            "dtype: int64\n",
            "\n",
            "Train Neutral Sentiments:\n",
            "text         11117\n",
            "sentiment    11117\n",
            "dtype: int64\n",
            "\n",
            "Train Negative Sentiments:\n",
            "text         7781\n",
            "sentiment    7781\n",
            "dtype: int64\n"
          ]
        }
      ],
      "source": [
        "# Cleaning text (both training and testing data)\n",
        "train['text'].apply(lambda x: str.lower(str(x)))\n",
        "train['text'].apply(lambda x: re.sub('[^a-zA-z0-9\\s]', '', str(x)))\n",
        "test['text'].apply(lambda x: str.lower(str(x)))\n",
        "test['text'].apply(lambda x: re.sub('[^a-zA-z0-9\\s]', '', str(x)))\n",
        "\n",
        "# Get rid of 'rt' (retweet)\n",
        "for i, row in train.iterrows():\n",
        "  train.at[i, 'text'] = re.sub(r'\\brt\\b', '', str(row['text']))\n",
        "\n",
        "for i, row in test.iterrows():\n",
        "  test.at[i, 'text'] = re.sub(r'\\brt\\b', '', str(row['text']))\n",
        "\n",
        "# Show how many data each type of sentiment has (for training data)\n",
        "print(f\"Train Positive Sentiments:\\n{train[train['sentiment']=='positive'].count()}\\n\")\n",
        "print(f\"Train Neutral Sentiments:\\n{train[train['sentiment']=='neutral'].count()}\\n\")\n",
        "print(f\"Train Negative Sentiments:\\n{train[train['sentiment']=='negative'].count()}\")"
      ]
    },
    {
      "cell_type": "code",
      "execution_count": 19,
      "metadata": {},
      "outputs": [
        {
          "data": {
            "text/html": [
              "<div>\n",
              "<style scoped>\n",
              "    .dataframe tbody tr th:only-of-type {\n",
              "        vertical-align: middle;\n",
              "    }\n",
              "\n",
              "    .dataframe tbody tr th {\n",
              "        vertical-align: top;\n",
              "    }\n",
              "\n",
              "    .dataframe thead th {\n",
              "        text-align: right;\n",
              "    }\n",
              "</style>\n",
              "<table border=\"1\" class=\"dataframe\">\n",
              "  <thead>\n",
              "    <tr style=\"text-align: right;\">\n",
              "      <th></th>\n",
              "      <th>text</th>\n",
              "      <th>sentiment</th>\n",
              "    </tr>\n",
              "  </thead>\n",
              "  <tbody>\n",
              "    <tr>\n",
              "      <th>0</th>\n",
              "      <td>I`d have responded, if I were going</td>\n",
              "      <td>neutral</td>\n",
              "    </tr>\n",
              "    <tr>\n",
              "      <th>1</th>\n",
              "      <td>Sooo SAD I will miss you here in San Diego!!!</td>\n",
              "      <td>negative</td>\n",
              "    </tr>\n",
              "    <tr>\n",
              "      <th>2</th>\n",
              "      <td>my boss is bullying me...</td>\n",
              "      <td>negative</td>\n",
              "    </tr>\n",
              "    <tr>\n",
              "      <th>3</th>\n",
              "      <td>what interview! leave me alone</td>\n",
              "      <td>negative</td>\n",
              "    </tr>\n",
              "    <tr>\n",
              "      <th>4</th>\n",
              "      <td>Sons of ****, why couldn`t they put them on t...</td>\n",
              "      <td>negative</td>\n",
              "    </tr>\n",
              "  </tbody>\n",
              "</table>\n",
              "</div>"
            ],
            "text/plain": [
              "                                                text sentiment\n",
              "0                I`d have responded, if I were going   neutral\n",
              "1      Sooo SAD I will miss you here in San Diego!!!  negative\n",
              "2                          my boss is bullying me...  negative\n",
              "3                     what interview! leave me alone  negative\n",
              "4   Sons of ****, why couldn`t they put them on t...  negative"
            ]
          },
          "execution_count": 19,
          "metadata": {},
          "output_type": "execute_result"
        }
      ],
      "source": [
        "train.head()"
      ]
    },
    {
      "cell_type": "code",
      "execution_count": 20,
      "metadata": {},
      "outputs": [
        {
          "data": {
            "text/html": [
              "<div>\n",
              "<style scoped>\n",
              "    .dataframe tbody tr th:only-of-type {\n",
              "        vertical-align: middle;\n",
              "    }\n",
              "\n",
              "    .dataframe tbody tr th {\n",
              "        vertical-align: top;\n",
              "    }\n",
              "\n",
              "    .dataframe thead th {\n",
              "        text-align: right;\n",
              "    }\n",
              "</style>\n",
              "<table border=\"1\" class=\"dataframe\">\n",
              "  <thead>\n",
              "    <tr style=\"text-align: right;\">\n",
              "      <th></th>\n",
              "      <th>text</th>\n",
              "      <th>sentiment</th>\n",
              "    </tr>\n",
              "  </thead>\n",
              "  <tbody>\n",
              "    <tr>\n",
              "      <th>0</th>\n",
              "      <td>Last session of the day  http://twitpic.com/67ezh</td>\n",
              "      <td>neutral</td>\n",
              "    </tr>\n",
              "    <tr>\n",
              "      <th>1</th>\n",
              "      <td>Shanghai is also really exciting (precisely -...</td>\n",
              "      <td>positive</td>\n",
              "    </tr>\n",
              "    <tr>\n",
              "      <th>2</th>\n",
              "      <td>Recession hit Veronique Branquinho, she has to...</td>\n",
              "      <td>negative</td>\n",
              "    </tr>\n",
              "    <tr>\n",
              "      <th>3</th>\n",
              "      <td>happy bday!</td>\n",
              "      <td>positive</td>\n",
              "    </tr>\n",
              "    <tr>\n",
              "      <th>4</th>\n",
              "      <td>http://twitpic.com/4w75p - I like it!!</td>\n",
              "      <td>positive</td>\n",
              "    </tr>\n",
              "  </tbody>\n",
              "</table>\n",
              "</div>"
            ],
            "text/plain": [
              "                                                text sentiment\n",
              "0  Last session of the day  http://twitpic.com/67ezh   neutral\n",
              "1   Shanghai is also really exciting (precisely -...  positive\n",
              "2  Recession hit Veronique Branquinho, she has to...  negative\n",
              "3                                        happy bday!  positive\n",
              "4             http://twitpic.com/4w75p - I like it!!  positive"
            ]
          },
          "execution_count": 20,
          "metadata": {},
          "output_type": "execute_result"
        }
      ],
      "source": [
        "test.head()"
      ]
    },
    {
      "cell_type": "code",
      "execution_count": 21,
      "metadata": {
        "id": "4bb-TCHr4823"
      },
      "outputs": [],
      "source": [
        "# Tokenization\n",
        "max_features = 2000 # Remember {max_features} most popular unique words only\n",
        "tokenizer = Tokenizer(num_words=max_features, split=' ')\n",
        "\n",
        "tokenizer.fit_on_texts(train['text'].values)\n",
        "train_X = tokenizer.texts_to_sequences(train['text'].values)\n",
        "train_X = pad_sequences(train_X)\n",
        "\n",
        "test_X = tokenizer.texts_to_sequences(test['text'].values)\n",
        "test_X = pad_sequences(test_X, maxlen=train_X.shape[1])"
      ]
    },
    {
      "cell_type": "code",
      "execution_count": 22,
      "metadata": {
        "id": "7jeMREAO_v79"
      },
      "outputs": [],
      "source": [
        "# Label Encoding (from string to integers)\n",
        "le = LabelEncoder()\n",
        "train_Y = le.fit_transform(train['sentiment'])\n",
        "test_Y = le.transform(test['sentiment'])"
      ]
    },
    {
      "cell_type": "code",
      "execution_count": 23,
      "metadata": {},
      "outputs": [
        {
          "name": "stdout",
          "output_type": "stream",
          "text": [
            "negative -> 0\n",
            "neutral -> 1\n",
            "positive -> 2\n"
          ]
        }
      ],
      "source": [
        "# Display the mapping of original labels to encoded labels\n",
        "for original, encoded in zip(le.classes_, range(len(le.classes_))):\n",
        "    print(f\"{original} -> {encoded}\")"
      ]
    },
    {
      "cell_type": "code",
      "execution_count": 24,
      "metadata": {
        "colab": {
          "base_uri": "https://localhost:8080/"
        },
        "id": "0WQfcaLoK-Ky",
        "outputId": "1109055f-58d6-4b55-f4e1-193d58f59bc4"
      },
      "outputs": [
        {
          "name": "stdout",
          "output_type": "stream",
          "text": [
            "(21984, 34)\n",
            "(5496, 34)\n",
            "(3534, 34)\n",
            "(21984,)\n",
            "(5496,)\n",
            "(3534,)\n"
          ]
        }
      ],
      "source": [
        "# Split Training Data to Training and Validation Data\n",
        "train_X, val_X, train_Y, val_Y = tts(train_X, train_Y, train_size=0.8, random_state=42)\n",
        "\n",
        "print(train_X.shape)\n",
        "print(val_X.shape)\n",
        "print(test_X.shape)\n",
        "\n",
        "print(train_Y.shape)\n",
        "print(val_Y.shape)\n",
        "print(test_Y.shape)"
      ]
    },
    {
      "cell_type": "code",
      "execution_count": 25,
      "metadata": {
        "colab": {
          "base_uri": "https://localhost:8080/"
        },
        "id": "T1pzxQ8RK8oz",
        "outputId": "057a8483-c70a-4fe2-f1b1-9c24128d5362"
      },
      "outputs": [
        {
          "name": "stdout",
          "output_type": "stream",
          "text": [
            "Model: \"sequential\"\n",
            "_________________________________________________________________\n",
            " Layer (type)                Output Shape              Param #   \n",
            "=================================================================\n",
            " embedding (Embedding)       (None, 34, 128)           256000    \n",
            "                                                                 \n",
            " gru (GRU)                   (None, 34, 128)           99072     \n",
            "                                                                 \n",
            " spatial_dropout1d (Spatial  (None, 34, 128)           0         \n",
            " Dropout1D)                                                      \n",
            "                                                                 \n",
            " gru_1 (GRU)                 (None, 128)               99072     \n",
            "                                                                 \n",
            " dense (Dense)               (None, 128)               16512     \n",
            "                                                                 \n",
            " dropout (Dropout)           (None, 128)               0         \n",
            "                                                                 \n",
            " dense_1 (Dense)             (None, 3)                 387       \n",
            "                                                                 \n",
            "=================================================================\n",
            "Total params: 471043 (1.80 MB)\n",
            "Trainable params: 471043 (1.80 MB)\n",
            "Non-trainable params: 0 (0.00 Byte)\n",
            "_________________________________________________________________\n"
          ]
        }
      ],
      "source": [
        "# Model for predictions (using GRU)\n",
        "model = models.Sequential()\n",
        "model.add(layers.Embedding(input_dim=max_features, output_dim=128, input_length=train_X.shape[1]))\n",
        "model.add(layers.GRU(128, dropout=0.5, return_sequences=True))\n",
        "model.add(layers.SpatialDropout1D(0.5))\n",
        "model.add(layers.GRU(128, dropout=0.5))\n",
        "model.add(layers.Dense(128, activation='relu'))\n",
        "model.add(layers.Dropout(0.5))\n",
        "model.add(layers.Dense(3, activation='softmax'))\n",
        "\n",
        "model.compile(optimizer=\"adam\", loss=\"sparse_categorical_crossentropy\", metrics=[\"accuracy\"])\n",
        "\n",
        "model.summary()"
      ]
    },
    {
      "cell_type": "code",
      "execution_count": 26,
      "metadata": {
        "colab": {
          "base_uri": "https://localhost:8080/"
        },
        "id": "uZP8Ij8mK__I",
        "outputId": "0f799490-2a83-41fa-f3a1-7c69fe56ce75"
      },
      "outputs": [
        {
          "name": "stdout",
          "output_type": "stream",
          "text": [
            "Epoch 1/15\n",
            "1374/1374 - 47s - loss: 0.8504 - accuracy: 0.6077 - val_loss: 0.6913 - val_accuracy: 0.7069 - lr: 0.0010 - 47s/epoch - 34ms/step\n",
            "Epoch 2/15\n",
            "1374/1374 - 51s - loss: 0.6858 - accuracy: 0.7257 - val_loss: 0.6703 - val_accuracy: 0.7152 - lr: 0.0010 - 51s/epoch - 37ms/step\n",
            "Epoch 3/15\n",
            "1374/1374 - 51s - loss: 0.6461 - accuracy: 0.7401 - val_loss: 0.6665 - val_accuracy: 0.7283 - lr: 0.0010 - 51s/epoch - 37ms/step\n",
            "Epoch 4/15\n",
            "1374/1374 - 52s - loss: 0.6252 - accuracy: 0.7483 - val_loss: 0.6747 - val_accuracy: 0.7262 - lr: 0.0010 - 52s/epoch - 38ms/step\n",
            "Epoch 5/15\n",
            "\n",
            "Epoch 5: ReduceLROnPlateau reducing learning rate to 0.00010000000474974513.\n",
            "1374/1374 - 36s - loss: 0.6035 - accuracy: 0.7609 - val_loss: 0.6770 - val_accuracy: 0.7200 - lr: 0.0010 - 36s/epoch - 26ms/step\n",
            "Epoch 6/15\n",
            "1374/1374 - 31s - loss: 0.5582 - accuracy: 0.7834 - val_loss: 0.6883 - val_accuracy: 0.7254 - lr: 1.0000e-04 - 31s/epoch - 22ms/step\n",
            "Epoch 7/15\n",
            "\n",
            "Epoch 7: ReduceLROnPlateau reducing learning rate to 1.0000000474974514e-05.\n",
            "1374/1374 - 51s - loss: 0.5433 - accuracy: 0.7856 - val_loss: 0.6928 - val_accuracy: 0.7227 - lr: 1.0000e-04 - 51s/epoch - 37ms/step\n",
            "Epoch 8/15\n",
            "1374/1374 - 47s - loss: 0.5305 - accuracy: 0.7921 - val_loss: 0.6977 - val_accuracy: 0.7223 - lr: 1.0000e-05 - 47s/epoch - 34ms/step\n",
            "Epoch 9/15\n",
            "\n",
            "Epoch 9: ReduceLROnPlateau reducing learning rate to 1.0000000656873453e-06.\n",
            "1374/1374 - 48s - loss: 0.5313 - accuracy: 0.7948 - val_loss: 0.6982 - val_accuracy: 0.7223 - lr: 1.0000e-05 - 48s/epoch - 35ms/step\n",
            "Epoch 10/15\n",
            "1374/1374 - 50s - loss: 0.5308 - accuracy: 0.7954 - val_loss: 0.6982 - val_accuracy: 0.7223 - lr: 1.0000e-06 - 50s/epoch - 36ms/step\n",
            "Epoch 11/15\n",
            "\n",
            "Epoch 11: ReduceLROnPlateau reducing learning rate to 1e-06.\n",
            "1374/1374 - 41s - loss: 0.5297 - accuracy: 0.7939 - val_loss: 0.6984 - val_accuracy: 0.7222 - lr: 1.0000e-06 - 41s/epoch - 30ms/step\n",
            "Epoch 12/15\n",
            "1374/1374 - 41s - loss: 0.5278 - accuracy: 0.7925 - val_loss: 0.6985 - val_accuracy: 0.7220 - lr: 1.0000e-06 - 41s/epoch - 29ms/step\n",
            "Epoch 13/15\n",
            "1374/1374 - 44s - loss: 0.5311 - accuracy: 0.7918 - val_loss: 0.6986 - val_accuracy: 0.7218 - lr: 1.0000e-06 - 44s/epoch - 32ms/step\n",
            "Epoch 14/15\n",
            "1374/1374 - 43s - loss: 0.5263 - accuracy: 0.7926 - val_loss: 0.6988 - val_accuracy: 0.7218 - lr: 1.0000e-06 - 43s/epoch - 31ms/step\n",
            "Epoch 15/15\n",
            "1374/1374 - 36s - loss: 0.5288 - accuracy: 0.7957 - val_loss: 0.6989 - val_accuracy: 0.7216 - lr: 1.0000e-06 - 36s/epoch - 26ms/step\n"
          ]
        }
      ],
      "source": [
        "# Train Model\n",
        "lr_scheduler = ReduceLROnPlateau(monitor=\"val_loss\", factor=0.1, patience=2, min_lr=1e-6, verbose=2)\n",
        "history = model.fit(train_X, train_Y, validation_data=(val_X, val_Y), epochs=15, batch_size=16, verbose=2, callbacks=[lr_scheduler])"
      ]
    },
    {
      "cell_type": "code",
      "execution_count": 27,
      "metadata": {},
      "outputs": [
        {
          "data": {
            "image/png": "[encoded data removed]",
            "text/plain": [
              "<Figure size 800x800 with 2 Axes>"
            ]
          },
          "metadata": {},
          "output_type": "display_data"
        }
      ],
      "source": [
        "# Training-Validation result of model\n",
        "acc = history.history['accuracy']\n",
        "loss = history.history['loss']\n",
        "val_acc = history.history['val_accuracy']\n",
        "val_loss = history.history['val_loss']\n",
        "\n",
        "plt.figure(figsize=(8, 8))\n",
        "plt.subplot(2, 1, 1)\n",
        "plt.title('Training and Validation Accuracy')\n",
        "plt.plot(acc, label='Training Accuracy')\n",
        "plt.plot(val_acc, label='Validation Accuracy')\n",
        "plt.ylabel('Accuracy')\n",
        "plt.legend(loc='upper left')\n",
        "\n",
        "plt.subplot(2, 1, 2)\n",
        "plt.title('Training and Validation Loss')\n",
        "plt.plot(loss, label='Training Loss')\n",
        "plt.plot(val_loss, label='Validation Loss')\n",
        "plt.xlabel('Epoch')\n",
        "plt.ylabel('Cross Entropy')\n",
        "plt.legend(loc='upper left')\n",
        "\n",
        "plt.show()"
      ]
    },
    {
      "cell_type": "markdown",
      "metadata": {},
      "source": [
        "Model is heavily overfit"
      ]
    },
    {
      "cell_type": "code",
      "execution_count": 28,
      "metadata": {
        "colab": {
          "base_uri": "https://localhost:8080/"
        },
        "id": "J-1R_bXzLCJ4",
        "outputId": "1ea60ebf-7e16-4c84-bb33-54b94d49c03b"
      },
      "outputs": [
        {
          "name": "stdout",
          "output_type": "stream",
          "text": [
            "111/111 [==============================] - 2s 18ms/step - loss: 0.6868 - accuracy: 0.7326\n"
          ]
        },
        {
          "data": {
            "text/plain": [
              "[0.686791181564331, 0.7325976490974426]"
            ]
          },
          "execution_count": 28,
          "metadata": {},
          "output_type": "execute_result"
        }
      ],
      "source": [
        "# Evaluate Model using Testing Data\n",
        "model.evaluate(test_X, test_Y)"
      ]
    },
    {
      "cell_type": "code",
      "execution_count": 29,
      "metadata": {
        "colab": {
          "base_uri": "https://localhost:8080/"
        },
        "id": "d7aYruDJ85X3",
        "outputId": "fd6e69fa-b09d-4acb-8e0b-994c58e66da0"
      },
      "outputs": [
        {
          "name": "stdout",
          "output_type": "stream",
          "text": [
            "111/111 [==============================] - 3s 17ms/step\n"
          ]
        },
        {
          "data": {
            "text/html": [
              "<div>\n",
              "<style scoped>\n",
              "    .dataframe tbody tr th:only-of-type {\n",
              "        vertical-align: middle;\n",
              "    }\n",
              "\n",
              "    .dataframe tbody tr th {\n",
              "        vertical-align: top;\n",
              "    }\n",
              "\n",
              "    .dataframe thead th {\n",
              "        text-align: right;\n",
              "    }\n",
              "</style>\n",
              "<table border=\"1\" class=\"dataframe\">\n",
              "  <thead>\n",
              "    <tr style=\"text-align: right;\">\n",
              "      <th></th>\n",
              "      <th>Text</th>\n",
              "      <th>Real Label</th>\n",
              "      <th>Predicted Label</th>\n",
              "    </tr>\n",
              "  </thead>\n",
              "  <tbody>\n",
              "    <tr>\n",
              "      <th>0</th>\n",
              "      <td>Last session of the day  http://twitpic.com/67ezh</td>\n",
              "      <td>neutral</td>\n",
              "      <td>neutral</td>\n",
              "    </tr>\n",
              "    <tr>\n",
              "      <th>1</th>\n",
              "      <td>Shanghai is also really exciting (precisely -- skyscrapers galore). Good tweeps in China:  (SH)  (BJ).</td>\n",
              "      <td>positive</td>\n",
              "      <td>positive</td>\n",
              "    </tr>\n",
              "    <tr>\n",
              "      <th>2</th>\n",
              "      <td>Recession hit Veronique Branquinho, she has to quit her company, such a shame!</td>\n",
              "      <td>negative</td>\n",
              "      <td>negative</td>\n",
              "    </tr>\n",
              "    <tr>\n",
              "      <th>3</th>\n",
              "      <td>happy bday!</td>\n",
              "      <td>positive</td>\n",
              "      <td>positive</td>\n",
              "    </tr>\n",
              "    <tr>\n",
              "      <th>4</th>\n",
              "      <td>http://twitpic.com/4w75p - I like it!!</td>\n",
              "      <td>positive</td>\n",
              "      <td>positive</td>\n",
              "    </tr>\n",
              "    <tr>\n",
              "      <th>...</th>\n",
              "      <td>...</td>\n",
              "      <td>...</td>\n",
              "      <td>...</td>\n",
              "    </tr>\n",
              "    <tr>\n",
              "      <th>3529</th>\n",
              "      <td>its at 3 am, im very tired but i can`t sleep  but i try it</td>\n",
              "      <td>negative</td>\n",
              "      <td>negative</td>\n",
              "    </tr>\n",
              "    <tr>\n",
              "      <th>3530</th>\n",
              "      <td>All alone in this old house again.  Thanks for the net which keeps me alive and kicking! Whoever invented the net, i wanna kiss your hair!</td>\n",
              "      <td>positive</td>\n",
              "      <td>neutral</td>\n",
              "    </tr>\n",
              "    <tr>\n",
              "      <th>3531</th>\n",
              "      <td>I know what you mean. My little dog is sinking into depression... he wants to move someplace tropical</td>\n",
              "      <td>negative</td>\n",
              "      <td>neutral</td>\n",
              "    </tr>\n",
              "    <tr>\n",
              "      <th>3532</th>\n",
              "      <td>_sutra what is your next youtube video gonna be about? I love your videos!</td>\n",
              "      <td>positive</td>\n",
              "      <td>positive</td>\n",
              "    </tr>\n",
              "    <tr>\n",
              "      <th>3533</th>\n",
              "      <td>http://twitpic.com/4woj2 - omgssh  ang cute ng bby.!</td>\n",
              "      <td>positive</td>\n",
              "      <td>positive</td>\n",
              "    </tr>\n",
              "  </tbody>\n",
              "</table>\n",
              "<p>3534 rows × 3 columns</p>\n",
              "</div>"
            ],
            "text/plain": [
              "                                                                                                                                            Text  \\\n",
              "0                                                                                              Last session of the day  http://twitpic.com/67ezh   \n",
              "1                                         Shanghai is also really exciting (precisely -- skyscrapers galore). Good tweeps in China:  (SH)  (BJ).   \n",
              "2                                                                 Recession hit Veronique Branquinho, she has to quit her company, such a shame!   \n",
              "3                                                                                                                                    happy bday!   \n",
              "4                                                                                                         http://twitpic.com/4w75p - I like it!!   \n",
              "...                                                                                                                                          ...   \n",
              "3529                                                                                  its at 3 am, im very tired but i can`t sleep  but i try it   \n",
              "3530  All alone in this old house again.  Thanks for the net which keeps me alive and kicking! Whoever invented the net, i wanna kiss your hair!   \n",
              "3531                                       I know what you mean. My little dog is sinking into depression... he wants to move someplace tropical   \n",
              "3532                                                                  _sutra what is your next youtube video gonna be about? I love your videos!   \n",
              "3533                                                                                        http://twitpic.com/4woj2 - omgssh  ang cute ng bby.!   \n",
              "\n",
              "     Real Label Predicted Label  \n",
              "0       neutral         neutral  \n",
              "1      positive        positive  \n",
              "2      negative        negative  \n",
              "3      positive        positive  \n",
              "4      positive        positive  \n",
              "...         ...             ...  \n",
              "3529   negative        negative  \n",
              "3530   positive         neutral  \n",
              "3531   negative         neutral  \n",
              "3532   positive        positive  \n",
              "3533   positive        positive  \n",
              "\n",
              "[3534 rows x 3 columns]"
            ]
          },
          "execution_count": 29,
          "metadata": {},
          "output_type": "execute_result"
        }
      ],
      "source": [
        "# See the predictions\n",
        "y_pred = model.predict(test_X)\n",
        "y_pred_class = np.argmax(y_pred, axis=1)\n",
        "\n",
        "real_labels = le.inverse_transform(test_Y)\n",
        "predicted_labels = le.inverse_transform(y_pred_class)\n",
        "\n",
        "results_df = pd.DataFrame({\n",
        "    'Text': test['text'],\n",
        "    'Real Label': real_labels,\n",
        "    'Predicted Label': predicted_labels \n",
        "})\n",
        "\n",
        "pd.set_option('display.max_colwidth', None)\n",
        "results_df"
      ]
    },
    {
      "cell_type": "code",
      "execution_count": 30,
      "metadata": {},
      "outputs": [
        {
          "name": "stdout",
          "output_type": "stream",
          "text": [
            "F1 Score: 0.734\n"
          ]
        }
      ],
      "source": [
        "# Calculate the F1-Score of the model\n",
        "f1 = f1_score(test_Y, y_pred_class, average='weighted')\n",
        "print(f\"F1 Score: {f1:.3f}\")"
      ]
    },
    {
      "cell_type": "code",
      "execution_count": 31,
      "metadata": {
        "colab": {
          "base_uri": "https://localhost:8080/",
          "height": 487
        },
        "id": "bw38XCqeMLdN",
        "outputId": "673e7b6c-5d26-49f0-930d-20cfba1c299f"
      },
      "outputs": [],
      "source": [
        "# Get AUC value\n",
        "y_test_binarized = label_binarize(test_Y, classes=[0, 1, 2])\n",
        "fpr0, tpr0, _ = roc_curve(y_test_binarized[:, 0], y_pred[:, 0])\n",
        "fpr1, tpr1, _ = roc_curve(y_test_binarized[:, 1], y_pred[:, 1])\n",
        "fpr2, tpr2, _ = roc_curve(y_test_binarized[:, 2], y_pred[:, 2])\n",
        "\n",
        "roc_auc_graph0 = auc(fpr0, tpr0)\n",
        "roc_auc_graph1 = auc(fpr1, tpr1)\n",
        "roc_auc_graph2 = auc(fpr2, tpr2)"
      ]
    },
    {
      "cell_type": "code",
      "execution_count": 32,
      "metadata": {},
      "outputs": [
        {
          "data": {
            "image/png": "[encoded data removed]",
            "text/plain": [
              "<Figure size 900x300 with 3 Axes>"
            ]
          },
          "metadata": {},
          "output_type": "display_data"
        }
      ],
      "source": [
        "# Plot ROC Curve\n",
        "fig, axes = plt.subplots(1, 3, figsize=(9, 3))\n",
        "\n",
        "# Plot for class 0\n",
        "axes[0].plot(fpr0, tpr0, color='blue', lw=2, label=f'AUC = {roc_auc_graph0:.3f}')\n",
        "axes[0].plot([0, 1], [0, 1], color='black', lw=2, linestyle='--')\n",
        "axes[0].set_xlabel('False Positive Rate (FPR)')\n",
        "axes[0].set_ylabel('True Positive Rate (TPR)')\n",
        "axes[0].set_title('ROC Curve for Class 0 (Negative)')\n",
        "axes[0].legend(loc='lower right')\n",
        "\n",
        "# Plot for class 1\n",
        "axes[1].plot(fpr1, tpr1, color='green', lw=2, label=f'AUC = {roc_auc_graph1:.3f}')\n",
        "axes[1].plot([0, 1], [0, 1], color='black', lw=2, linestyle='--')\n",
        "axes[1].set_xlabel('False Positive Rate (FPR)')\n",
        "axes[1].set_ylabel('True Positive Rate (TPR)')\n",
        "axes[1].set_title('ROC Curve for Class 1 (Neutral)')\n",
        "axes[1].legend(loc='lower right')\n",
        "\n",
        "# Plot for class 2\n",
        "axes[2].plot(fpr2, tpr2, color='red', lw=2, label=f'AUC = {roc_auc_graph2:.3f}')\n",
        "axes[2].plot([0, 1], [0, 1], color='black', lw=2, linestyle='--')\n",
        "axes[2].set_xlabel('False Positive Rate (FPR)')\n",
        "axes[2].set_ylabel('True Positive Rate (TPR)')\n",
        "axes[2].set_title('ROC Curve for Class 2 (Positive)')\n",
        "axes[2].legend(loc='lower right')\n",
        "\n",
        "plt.tight_layout()\n",
        "plt.show()"
      ]
    },
    {
      "cell_type": "code",
      "execution_count": 33,
      "metadata": {},
      "outputs": [],
      "source": [
        "# Clear Session\n",
        "tf.keras.backend.clear_session()"
      ]
    }
  ],
  "metadata": {
    "accelerator": "GPU",
    "colab": {
      "gpuType": "T4",
      "provenance": []
    },
    "kernelspec": {
      "display_name": "base",
      "language": "python",
      "name": "python3"
    },
    "language_info": {
      "codemirror_mode": {
        "name": "ipython",
        "version": 3
      },
      "file_extension": ".py",
      "mimetype": "text/x-python",
      "name": "python",
      "nbconvert_exporter": "python",
      "pygments_lexer": "ipython3",
      "version": "3.9.12"
    }
  },
  "nbformat": 4,
  "nbformat_minor": 0
}
